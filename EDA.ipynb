{
 "cells": [
  {
   "cell_type": "code",
   "execution_count": 1,
   "metadata": {},
   "outputs": [],
   "source": [
    "import pandas as pd\n",
    "import numpy as np\n",
    "import matplotlib.pyplot as plt\n",
    "import matplotlib.font_manager as fm\n",
    "import os\n",
    "%matplotlib inline"
   ]
  },
  {
   "cell_type": "code",
   "execution_count": 2,
   "metadata": {
    "tags": []
   },
   "outputs": [
    {
     "name": "stdout",
     "output_type": "stream",
     "text": [
      "NanumGothic\n"
     ]
    }
   ],
   "source": [
    "path = \"C:/Windows/Fonts/나눔고딕Bold.ttf\"\n",
    "font_name = fm.FontProperties(fname=path,size=18).get_name()\n",
    "print(font_name)\n",
    "plt.rc('font',family=font_name)"
   ]
  },
  {
   "cell_type": "code",
   "execution_count": 3,
   "metadata": {},
   "outputs": [
    {
     "data": {
      "text/plain": [
       "'C:\\\\Users\\\\김동현\\\\Desktop\\\\2020\\\\2020 하계방학\\\\Data\\\\Data'"
      ]
     },
     "execution_count": 3,
     "metadata": {},
     "output_type": "execute_result"
    }
   ],
   "source": [
    "data_path = os.path.abspath(\"../Data/Data\")\n",
    "data_path"
   ]
  },
  {
   "cell_type": "markdown",
   "metadata": {},
   "source": [
    "SNS 데이터를 제외하고 파일로드 자동화"
   ]
  },
  {
   "cell_type": "code",
   "execution_count": 4,
   "metadata": {},
   "outputs": [],
   "source": [
    "def sep(name):\n",
    "    if name == 'SNS':\n",
    "        return '\u0007'\n",
    "    elif name == 'Card':\n",
    "        return '\\t'\n",
    "    elif name == 'Logistics':\n",
    "        return ' '\n",
    "    elif name == 'People':\n",
    "        return '|'\n",
    "    elif name == 'Delivery':\n",
    "        return ' '\n",
    "    elif name == 'Corona':\n",
    "        return ','\n",
    "    "
   ]
  },
  {
   "cell_type": "code",
   "execution_count": 5,
   "metadata": {
    "tags": []
   },
   "outputs": [
    {
     "name": "stdout",
     "output_type": "stream",
     "text": [
      "Card :\n",
      "C:\\Users\\김동현\\Desktop\\2020\\2020 하계방학\\Data\\DataCard\\02_혁신아이디어분야_카드소비데이터(신한카드)_데이터정의서.xlsx\n",
      "C:\\Users\\김동현\\Desktop\\2020\\2020 하계방학\\Data\\DataCard\\CARD_SPENDING_FOREIGNER.txt\n",
      "C:\\Users\\김동현\\Desktop\\2020\\2020 하계방학\\Data\\DataCard\\CARD_SPENDING_RESIDENT.txt\n",
      "Corona :\n",
      "C:\\Users\\김동현\\Desktop\\2020\\2020 하계방학\\Data\\DataCorona\\kr_daily.csv\n",
      "C:\\Users\\김동현\\Desktop\\2020\\2020 하계방학\\Data\\DataCorona\\kr_regional_daily.csv\n",
      "Delivery :\n",
      "C:\\Users\\김동현\\Desktop\\2020\\2020 하계방학\\Data\\DataDelivery\\04_혁신아이디어분야_유통데이터(GS리테일)_데이터정의서 및 문제 데이터.xlsx\n",
      "Logistics :\n",
      "C:\\Users\\김동현\\Desktop\\2020\\2020 하계방학\\Data\\DataLogistics\\05_혁신아이디어분야_물류데이터(CJ올리브네트웍스)_데이터정의서.xlsx\n",
      "C:\\Users\\김동현\\Desktop\\2020\\2020 하계방학\\Data\\DataLogistics\\2020 빅콘테스트_CJ올리브네트웍스_제공DB.xlsx\n",
      "People :\n",
      "C:\\Users\\김동현\\Desktop\\2020\\2020 하계방학\\Data\\DataPeople\\01_혁신아이디어분야_유동인구데이터(SK텔레콤)_데이터정의서.xlsx\n",
      "C:\\Users\\김동현\\Desktop\\2020\\2020 하계방학\\Data\\DataPeople\\4개지역_FLOW_AGE_201902.CSV\n",
      "C:\\Users\\김동현\\Desktop\\2020\\2020 하계방학\\Data\\DataPeople\\4개지역_FLOW_AGE_201903.CSV\n",
      "C:\\Users\\김동현\\Desktop\\2020\\2020 하계방학\\Data\\DataPeople\\4개지역_FLOW_AGE_201904.CSV\n",
      "C:\\Users\\김동현\\Desktop\\2020\\2020 하계방학\\Data\\DataPeople\\4개지역_FLOW_AGE_201905.CSV\n",
      "C:\\Users\\김동현\\Desktop\\2020\\2020 하계방학\\Data\\DataPeople\\4개지역_FLOW_AGE_202002.CSV\n",
      "C:\\Users\\김동현\\Desktop\\2020\\2020 하계방학\\Data\\DataPeople\\4개지역_FLOW_AGE_202003.CSV\n",
      "C:\\Users\\김동현\\Desktop\\2020\\2020 하계방학\\Data\\DataPeople\\4개지역_FLOW_AGE_202004.CSV\n",
      "C:\\Users\\김동현\\Desktop\\2020\\2020 하계방학\\Data\\DataPeople\\4개지역_FLOW_AGE_202005.CSV\n",
      "C:\\Users\\김동현\\Desktop\\2020\\2020 하계방학\\Data\\DataPeople\\4개지역_FLOW_TIME_201902.CSV\n",
      "C:\\Users\\김동현\\Desktop\\2020\\2020 하계방학\\Data\\DataPeople\\4개지역_FLOW_TIME_201903.CSV\n",
      "C:\\Users\\김동현\\Desktop\\2020\\2020 하계방학\\Data\\DataPeople\\4개지역_FLOW_TIME_201904.CSV\n",
      "C:\\Users\\김동현\\Desktop\\2020\\2020 하계방학\\Data\\DataPeople\\4개지역_FLOW_TIME_201905.CSV\n",
      "C:\\Users\\김동현\\Desktop\\2020\\2020 하계방학\\Data\\DataPeople\\4개지역_FLOW_TIME_202002.CSV\n",
      "C:\\Users\\김동현\\Desktop\\2020\\2020 하계방학\\Data\\DataPeople\\4개지역_FLOW_TIME_202003.CSV\n",
      "C:\\Users\\김동현\\Desktop\\2020\\2020 하계방학\\Data\\DataPeople\\4개지역_FLOW_TIME_202004.CSV\n",
      "C:\\Users\\김동현\\Desktop\\2020\\2020 하계방학\\Data\\DataPeople\\4개지역_FLOW_TIME_202005.CSV\n",
      "SNS :\n",
      "C:\\Users\\김동현\\Desktop\\2020\\2020 하계방학\\Data\\DataSNS\\03_혁신아이디어분야_SNS데이터(와이즈넛)_데이터정의서.xlsx\n",
      "C:\\Users\\김동현\\Desktop\\2020\\2020 하계방학\\Data\\DataSNS\\2020 bigcontest data_wisenut.csv\n"
     ]
    }
   ],
   "source": [
    "Data = {}\n",
    "for path in os.listdir(data_path):\n",
    "    datas  = os.listdir(data_path+\"\\\\\"+path)\n",
    "    data_ex = []\n",
    "    print(path,\":\")\n",
    "    if path not in Data:\n",
    "        Data[path] = []\n",
    "    for data in datas:\n",
    "        data_ex.append(data)\n",
    "        print(data_path+path+\"\\\\\"+data)\n",
    "\n",
    "        if data[-4:] == 'xlsx':\n",
    "            if path == 'Delivery':\n",
    "                for i in range(6):\n",
    "                    Data[path].append(pd.read_excel(data_path+\"\\\\\"+path+\"\\\\\"+data,sheet_name=i))\n",
    "            else:\n",
    "                Data[path].append(pd.read_excel(data_path+\"\\\\\"+path+\"\\\\\"+data))\n",
    "        else:\n",
    "            try:\n",
    "                Data[path].append(pd.read_csv(data_path+\"\\\\\"+path+\"\\\\\"+data,encoding='cp949',engine='python',sep=sep(path)))\n",
    "            except Exception as e:\n",
    "                Data[path].append(pd.read_csv(data_path+\"\\\\\"+path+\"\\\\\"+data,encoding='utf-8',engine='python',sep=sep(path)))\n",
    "    Data[path].append(data_ex)\n"
   ]
  },
  {
   "cell_type": "code",
   "execution_count": 9,
   "metadata": {},
   "outputs": [
    {
     "data": {
      "text/html": [
       "<div>\n",
       "<style scoped>\n",
       "    .dataframe tbody tr th:only-of-type {\n",
       "        vertical-align: middle;\n",
       "    }\n",
       "\n",
       "    .dataframe tbody tr th {\n",
       "        vertical-align: top;\n",
       "    }\n",
       "\n",
       "    .dataframe thead th {\n",
       "        text-align: right;\n",
       "    }\n",
       "</style>\n",
       "<table border=\"1\" class=\"dataframe\">\n",
       "  <thead>\n",
       "    <tr style=\"text-align: right;\">\n",
       "      <th></th>\n",
       "      <th>STD_DD</th>\n",
       "      <th>GU_CD</th>\n",
       "      <th>DONG_CD</th>\n",
       "      <th>MCT_CAT_CD</th>\n",
       "      <th>SEX_CD</th>\n",
       "      <th>AGE_CD</th>\n",
       "      <th>USE_CNT</th>\n",
       "      <th>USE_AMT</th>\n",
       "    </tr>\n",
       "  </thead>\n",
       "  <tbody>\n",
       "    <tr>\n",
       "      <th>0</th>\n",
       "      <td>20190201</td>\n",
       "      <td>110</td>\n",
       "      <td>517</td>\n",
       "      <td>10</td>\n",
       "      <td>F</td>\n",
       "      <td>25</td>\n",
       "      <td>11</td>\n",
       "      <td>595</td>\n",
       "    </tr>\n",
       "    <tr>\n",
       "      <th>1</th>\n",
       "      <td>20190201</td>\n",
       "      <td>110</td>\n",
       "      <td>517</td>\n",
       "      <td>10</td>\n",
       "      <td>F</td>\n",
       "      <td>50</td>\n",
       "      <td>5</td>\n",
       "      <td>243</td>\n",
       "    </tr>\n",
       "    <tr>\n",
       "      <th>2</th>\n",
       "      <td>20190201</td>\n",
       "      <td>110</td>\n",
       "      <td>517</td>\n",
       "      <td>10</td>\n",
       "      <td>F</td>\n",
       "      <td>55</td>\n",
       "      <td>5</td>\n",
       "      <td>27</td>\n",
       "    </tr>\n",
       "    <tr>\n",
       "      <th>3</th>\n",
       "      <td>20190201</td>\n",
       "      <td>110</td>\n",
       "      <td>517</td>\n",
       "      <td>10</td>\n",
       "      <td>M</td>\n",
       "      <td>20</td>\n",
       "      <td>11</td>\n",
       "      <td>243</td>\n",
       "    </tr>\n",
       "    <tr>\n",
       "      <th>4</th>\n",
       "      <td>20190201</td>\n",
       "      <td>110</td>\n",
       "      <td>517</td>\n",
       "      <td>10</td>\n",
       "      <td>M</td>\n",
       "      <td>25</td>\n",
       "      <td>11</td>\n",
       "      <td>433</td>\n",
       "    </tr>\n",
       "    <tr>\n",
       "      <th>...</th>\n",
       "      <td>...</td>\n",
       "      <td>...</td>\n",
       "      <td>...</td>\n",
       "      <td>...</td>\n",
       "      <td>...</td>\n",
       "      <td>...</td>\n",
       "      <td>...</td>\n",
       "      <td>...</td>\n",
       "    </tr>\n",
       "    <tr>\n",
       "      <th>2537748</th>\n",
       "      <td>20200531</td>\n",
       "      <td>350</td>\n",
       "      <td>720</td>\n",
       "      <td>81</td>\n",
       "      <td>M</td>\n",
       "      <td>45</td>\n",
       "      <td>19</td>\n",
       "      <td>127</td>\n",
       "    </tr>\n",
       "    <tr>\n",
       "      <th>2537749</th>\n",
       "      <td>20200531</td>\n",
       "      <td>350</td>\n",
       "      <td>720</td>\n",
       "      <td>81</td>\n",
       "      <td>M</td>\n",
       "      <td>50</td>\n",
       "      <td>33</td>\n",
       "      <td>211</td>\n",
       "    </tr>\n",
       "    <tr>\n",
       "      <th>2537750</th>\n",
       "      <td>20200531</td>\n",
       "      <td>350</td>\n",
       "      <td>720</td>\n",
       "      <td>81</td>\n",
       "      <td>M</td>\n",
       "      <td>55</td>\n",
       "      <td>9</td>\n",
       "      <td>61</td>\n",
       "    </tr>\n",
       "    <tr>\n",
       "      <th>2537751</th>\n",
       "      <td>20200531</td>\n",
       "      <td>350</td>\n",
       "      <td>720</td>\n",
       "      <td>81</td>\n",
       "      <td>M</td>\n",
       "      <td>60</td>\n",
       "      <td>19</td>\n",
       "      <td>194</td>\n",
       "    </tr>\n",
       "    <tr>\n",
       "      <th>2537752</th>\n",
       "      <td>20200531</td>\n",
       "      <td>350</td>\n",
       "      <td>720</td>\n",
       "      <td>81</td>\n",
       "      <td>M</td>\n",
       "      <td>65</td>\n",
       "      <td>5</td>\n",
       "      <td>29</td>\n",
       "    </tr>\n",
       "  </tbody>\n",
       "</table>\n",
       "<p>2537753 rows × 8 columns</p>\n",
       "</div>"
      ],
      "text/plain": [
       "           STD_DD  GU_CD  DONG_CD  MCT_CAT_CD SEX_CD  AGE_CD  USE_CNT  USE_AMT\n",
       "0        20190201    110      517          10      F      25       11      595\n",
       "1        20190201    110      517          10      F      50        5      243\n",
       "2        20190201    110      517          10      F      55        5       27\n",
       "3        20190201    110      517          10      M      20       11      243\n",
       "4        20190201    110      517          10      M      25       11      433\n",
       "...           ...    ...      ...         ...    ...     ...      ...      ...\n",
       "2537748  20200531    350      720          81      M      45       19      127\n",
       "2537749  20200531    350      720          81      M      50       33      211\n",
       "2537750  20200531    350      720          81      M      55        9       61\n",
       "2537751  20200531    350      720          81      M      60       19      194\n",
       "2537752  20200531    350      720          81      M      65        5       29\n",
       "\n",
       "[2537753 rows x 8 columns]"
      ]
     },
     "execution_count": 9,
     "metadata": {},
     "output_type": "execute_result"
    }
   ],
   "source": [
    "Card = Data['Card'][2] \n",
    "Card"
   ]
  },
  {
   "cell_type": "code",
   "execution_count": 10,
   "metadata": {},
   "outputs": [],
   "source": [
    "test = Card.groupby([\"MCT_CAT_CD\",\"STD_DD\"]).sum()[[\"USE_CNT\",\"USE_AMT\"]].reset_index()"
   ]
  },
  {
   "cell_type": "code",
   "execution_count": 11,
   "metadata": {},
   "outputs": [
    {
     "data": {
      "text/html": [
       "<div>\n",
       "<style scoped>\n",
       "    .dataframe tbody tr th:only-of-type {\n",
       "        vertical-align: middle;\n",
       "    }\n",
       "\n",
       "    .dataframe tbody tr th {\n",
       "        vertical-align: top;\n",
       "    }\n",
       "\n",
       "    .dataframe thead th {\n",
       "        text-align: right;\n",
       "    }\n",
       "</style>\n",
       "<table border=\"1\" class=\"dataframe\">\n",
       "  <thead>\n",
       "    <tr style=\"text-align: right;\">\n",
       "      <th></th>\n",
       "      <th>date</th>\n",
       "      <th>region</th>\n",
       "      <th>confirmed</th>\n",
       "      <th>death</th>\n",
       "      <th>released</th>\n",
       "    </tr>\n",
       "  </thead>\n",
       "  <tbody>\n",
       "    <tr>\n",
       "      <th>0</th>\n",
       "      <td>20200217</td>\n",
       "      <td>서울</td>\n",
       "      <td>14</td>\n",
       "      <td>0</td>\n",
       "      <td>3</td>\n",
       "    </tr>\n",
       "    <tr>\n",
       "      <th>1</th>\n",
       "      <td>20200217</td>\n",
       "      <td>부산</td>\n",
       "      <td>0</td>\n",
       "      <td>0</td>\n",
       "      <td>0</td>\n",
       "    </tr>\n",
       "    <tr>\n",
       "      <th>2</th>\n",
       "      <td>20200217</td>\n",
       "      <td>대구</td>\n",
       "      <td>0</td>\n",
       "      <td>0</td>\n",
       "      <td>0</td>\n",
       "    </tr>\n",
       "    <tr>\n",
       "      <th>3</th>\n",
       "      <td>20200217</td>\n",
       "      <td>인천</td>\n",
       "      <td>1</td>\n",
       "      <td>0</td>\n",
       "      <td>1</td>\n",
       "    </tr>\n",
       "    <tr>\n",
       "      <th>4</th>\n",
       "      <td>20200217</td>\n",
       "      <td>광주</td>\n",
       "      <td>2</td>\n",
       "      <td>0</td>\n",
       "      <td>0</td>\n",
       "    </tr>\n",
       "  </tbody>\n",
       "</table>\n",
       "</div>"
      ],
      "text/plain": [
       "       date region  confirmed  death  released\n",
       "0  20200217     서울         14      0         3\n",
       "1  20200217     부산          0      0         0\n",
       "2  20200217     대구          0      0         0\n",
       "3  20200217     인천          1      0         1\n",
       "4  20200217     광주          2      0         0"
      ]
     },
     "execution_count": 11,
     "metadata": {},
     "output_type": "execute_result"
    }
   ],
   "source": [
    "cors = Data['Corona'][1]\n",
    "cors.head()"
   ]
  },
  {
   "cell_type": "code",
   "execution_count": 12,
   "metadata": {},
   "outputs": [],
   "source": [
    "cors_seoul = cors.loc[cors['region']=='서울'].reset_index(drop=True)\n",
    "cors_degu = cors.loc[cors['region']=='대구'].reset_index(drop=True)"
   ]
  },
  {
   "cell_type": "code",
   "execution_count": 13,
   "metadata": {},
   "outputs": [],
   "source": [
    "cors_seoul['STD_DD'] = cors_seoul['date']\n",
    "cors_degu['STD_DD'] = cors_degu['date']"
   ]
  },
  {
   "cell_type": "code",
   "execution_count": 14,
   "metadata": {},
   "outputs": [],
   "source": [
    "a = cors_seoul[:]\n",
    "b = cors_degu[:]\n",
    "a.index = a.index+1\n",
    "b.index = b.index+1"
   ]
  },
  {
   "cell_type": "code",
   "execution_count": 15,
   "metadata": {},
   "outputs": [],
   "source": [
    "cors_day_seoul = cors_seoul[cors_seoul.columns[2:5]] - a[a.columns[2:5]]\n",
    "cors_day_seoul.iloc[0] = cors_seoul[cors_seoul.columns[2:5]].iloc[0]\n",
    "cors_day_degu = cors_degu[cors_degu.columns[2:5]] - b[b.columns[2:5]]\n",
    "cors_day_degu.iloc[0] = cors_degu[cors_degu.columns[2:5]].iloc[0]"
   ]
  },
  {
   "cell_type": "code",
   "execution_count": 16,
   "metadata": {},
   "outputs": [],
   "source": [
    "cors_day_seoul = cors_day_seoul[:105]\n",
    "cors_day_degu = cors_day_degu[:105]"
   ]
  },
  {
   "cell_type": "code",
   "execution_count": 17,
   "metadata": {},
   "outputs": [],
   "source": [
    "cors_day_seoul['STD_DD'] = cors_seoul[:105]['STD_DD']\n",
    "cors_day_degu['STD_DD'] = cors_degu[:105]['STD_DD']"
   ]
  },
  {
   "cell_type": "code",
   "execution_count": 18,
   "metadata": {},
   "outputs": [],
   "source": [
    "temp = Card.loc[(Card['GU_CD']==140)|(Card['GU_CD']==350)].groupby(['STD_DD','MCT_CAT_CD']).sum().reset_index()"
   ]
  },
  {
   "cell_type": "code",
   "execution_count": 19,
   "metadata": {},
   "outputs": [],
   "source": [
    "t_20 = temp.loc[temp['STD_DD']>20200000][['MCT_CAT_CD','USE_CNT','USE_AMT']]\n",
    "t_19 = temp.loc[temp['STD_DD']<20200000][['MCT_CAT_CD','USE_CNT','USE_AMT']]"
   ]
  },
  {
   "cell_type": "code",
   "execution_count": 20,
   "metadata": {},
   "outputs": [],
   "source": [
    "t_20['M'] = temp.loc[temp['STD_DD']>20200000]['STD_DD'].apply(lambda x : x%10000)\n",
    "t_19['M'] = temp.loc[temp['STD_DD']<20200000]['STD_DD'].apply(lambda x : x%10000)"
   ]
  },
  {
   "cell_type": "code",
   "execution_count": 21,
   "metadata": {},
   "outputs": [],
   "source": [
    "temp = pd.merge(t_20,t_19,on=['M',\"MCT_CAT_CD\"])"
   ]
  },
  {
   "cell_type": "code",
   "execution_count": 22,
   "metadata": {},
   "outputs": [],
   "source": [
    "temp.rename({\"USE_CNT_x\":\"USE_CNT_2020\",\"USE_AMT_x\":\"USE_AMT_2020\",\"USE_CNT_y\":\"USE_CNT_2019\",\"USE_AMT_y\":\"USE_AMT_2019\"},inplace=True,axis=1)"
   ]
  },
  {
   "cell_type": "code",
   "execution_count": 23,
   "metadata": {},
   "outputs": [],
   "source": [
    "temp['DELTA_CNT'] = temp['USE_CNT_2020']-temp['USE_CNT_2019']\n",
    "temp['DELTA_AMT'] = temp['USE_AMT_2020']-temp['USE_AMT_2019']"
   ]
  },
  {
   "cell_type": "markdown",
   "metadata": {},
   "source": [
    "작년보다 매출이 가장 많이 떨어진 업종을 찾아야한다."
   ]
  },
  {
   "cell_type": "code",
   "execution_count": 27,
   "metadata": {},
   "outputs": [
    {
     "data": {
      "text/html": [
       "<div>\n",
       "<style scoped>\n",
       "    .dataframe tbody tr th:only-of-type {\n",
       "        vertical-align: middle;\n",
       "    }\n",
       "\n",
       "    .dataframe tbody tr th {\n",
       "        vertical-align: top;\n",
       "    }\n",
       "\n",
       "    .dataframe thead th {\n",
       "        text-align: right;\n",
       "    }\n",
       "</style>\n",
       "<table border=\"1\" class=\"dataframe\">\n",
       "  <thead>\n",
       "    <tr style=\"text-align: right;\">\n",
       "      <th></th>\n",
       "      <th>MCT_CAT_CD</th>\n",
       "      <th>USE_CNT_2020</th>\n",
       "      <th>USE_AMT_2020</th>\n",
       "      <th>M</th>\n",
       "      <th>USE_CNT_2019</th>\n",
       "      <th>USE_AMT_2019</th>\n",
       "      <th>DELTA_CNT</th>\n",
       "      <th>DELTA_AMT</th>\n",
       "    </tr>\n",
       "  </thead>\n",
       "  <tbody>\n",
       "    <tr>\n",
       "      <th>0</th>\n",
       "      <td>10</td>\n",
       "      <td>3292</td>\n",
       "      <td>502255</td>\n",
       "      <td>201</td>\n",
       "      <td>3481</td>\n",
       "      <td>321888</td>\n",
       "      <td>-189</td>\n",
       "      <td>180367</td>\n",
       "    </tr>\n",
       "    <tr>\n",
       "      <th>1</th>\n",
       "      <td>20</td>\n",
       "      <td>8886</td>\n",
       "      <td>712649</td>\n",
       "      <td>201</td>\n",
       "      <td>7996</td>\n",
       "      <td>656491</td>\n",
       "      <td>890</td>\n",
       "      <td>56158</td>\n",
       "    </tr>\n",
       "    <tr>\n",
       "      <th>2</th>\n",
       "      <td>21</td>\n",
       "      <td>21906</td>\n",
       "      <td>332995</td>\n",
       "      <td>201</td>\n",
       "      <td>18604</td>\n",
       "      <td>367865</td>\n",
       "      <td>3302</td>\n",
       "      <td>-34870</td>\n",
       "    </tr>\n",
       "    <tr>\n",
       "      <th>3</th>\n",
       "      <td>22</td>\n",
       "      <td>3833</td>\n",
       "      <td>78023</td>\n",
       "      <td>201</td>\n",
       "      <td>4743</td>\n",
       "      <td>93344</td>\n",
       "      <td>-910</td>\n",
       "      <td>-15321</td>\n",
       "    </tr>\n",
       "    <tr>\n",
       "      <th>4</th>\n",
       "      <td>30</td>\n",
       "      <td>117</td>\n",
       "      <td>61331</td>\n",
       "      <td>201</td>\n",
       "      <td>59</td>\n",
       "      <td>10706</td>\n",
       "      <td>58</td>\n",
       "      <td>50625</td>\n",
       "    </tr>\n",
       "    <tr>\n",
       "      <th>...</th>\n",
       "      <td>...</td>\n",
       "      <td>...</td>\n",
       "      <td>...</td>\n",
       "      <td>...</td>\n",
       "      <td>...</td>\n",
       "      <td>...</td>\n",
       "      <td>...</td>\n",
       "      <td>...</td>\n",
       "    </tr>\n",
       "    <tr>\n",
       "      <th>2734</th>\n",
       "      <td>70</td>\n",
       "      <td>10884</td>\n",
       "      <td>414896</td>\n",
       "      <td>531</td>\n",
       "      <td>59937</td>\n",
       "      <td>4190037</td>\n",
       "      <td>-49053</td>\n",
       "      <td>-3775141</td>\n",
       "    </tr>\n",
       "    <tr>\n",
       "      <th>2735</th>\n",
       "      <td>71</td>\n",
       "      <td>11701</td>\n",
       "      <td>545042</td>\n",
       "      <td>531</td>\n",
       "      <td>13846</td>\n",
       "      <td>1003778</td>\n",
       "      <td>-2145</td>\n",
       "      <td>-458736</td>\n",
       "    </tr>\n",
       "    <tr>\n",
       "      <th>2736</th>\n",
       "      <td>80</td>\n",
       "      <td>361986</td>\n",
       "      <td>4869571</td>\n",
       "      <td>531</td>\n",
       "      <td>455374</td>\n",
       "      <td>6225775</td>\n",
       "      <td>-93388</td>\n",
       "      <td>-1356204</td>\n",
       "    </tr>\n",
       "    <tr>\n",
       "      <th>2737</th>\n",
       "      <td>81</td>\n",
       "      <td>22810</td>\n",
       "      <td>366045</td>\n",
       "      <td>531</td>\n",
       "      <td>34900</td>\n",
       "      <td>639781</td>\n",
       "      <td>-12090</td>\n",
       "      <td>-273736</td>\n",
       "    </tr>\n",
       "    <tr>\n",
       "      <th>2738</th>\n",
       "      <td>92</td>\n",
       "      <td>549</td>\n",
       "      <td>16459</td>\n",
       "      <td>531</td>\n",
       "      <td>1431</td>\n",
       "      <td>50419</td>\n",
       "      <td>-882</td>\n",
       "      <td>-33960</td>\n",
       "    </tr>\n",
       "  </tbody>\n",
       "</table>\n",
       "<p>2739 rows × 8 columns</p>\n",
       "</div>"
      ],
      "text/plain": [
       "      MCT_CAT_CD  USE_CNT_2020  USE_AMT_2020    M  USE_CNT_2019  USE_AMT_2019  \\\n",
       "0             10          3292        502255  201          3481        321888   \n",
       "1             20          8886        712649  201          7996        656491   \n",
       "2             21         21906        332995  201         18604        367865   \n",
       "3             22          3833         78023  201          4743         93344   \n",
       "4             30           117         61331  201            59         10706   \n",
       "...          ...           ...           ...  ...           ...           ...   \n",
       "2734          70         10884        414896  531         59937       4190037   \n",
       "2735          71         11701        545042  531         13846       1003778   \n",
       "2736          80        361986       4869571  531        455374       6225775   \n",
       "2737          81         22810        366045  531         34900        639781   \n",
       "2738          92           549         16459  531          1431         50419   \n",
       "\n",
       "      DELTA_CNT  DELTA_AMT  \n",
       "0          -189     180367  \n",
       "1           890      56158  \n",
       "2          3302     -34870  \n",
       "3          -910     -15321  \n",
       "4            58      50625  \n",
       "...         ...        ...  \n",
       "2734     -49053   -3775141  \n",
       "2735      -2145    -458736  \n",
       "2736     -93388   -1356204  \n",
       "2737     -12090    -273736  \n",
       "2738       -882     -33960  \n",
       "\n",
       "[2739 rows x 8 columns]"
      ]
     },
     "execution_count": 27,
     "metadata": {},
     "output_type": "execute_result"
    }
   ],
   "source": [
    "temp"
   ]
  },
  {
   "cell_type": "code",
   "execution_count": 24,
   "metadata": {},
   "outputs": [
    {
     "data": {
      "text/plain": [
       "MCT_CAT_CD\n",
       "10    -101958\n",
       "20    -234971\n",
       "21    -203531\n",
       "22    -185477\n",
       "30      -1405\n",
       "31        890\n",
       "32       2189\n",
       "33    -287217\n",
       "34     -14728\n",
       "35     -27682\n",
       "40   -6325350\n",
       "42    -467773\n",
       "43      -2880\n",
       "44    -140881\n",
       "50    -459484\n",
       "52    -911842\n",
       "60       1237\n",
       "62    -531825\n",
       "70     304159\n",
       "71    -600420\n",
       "80   -5315880\n",
       "81    -203775\n",
       "92      -8941\n",
       "Name: DELTA_CNT, dtype: int64"
      ]
     },
     "execution_count": 24,
     "metadata": {},
     "output_type": "execute_result"
    }
   ],
   "source": [
    "temp.groupby(\"MCT_CAT_CD\").sum()[\"DELTA_CNT\"]"
   ]
  },
  {
   "cell_type": "code",
   "execution_count": 28,
   "metadata": {
    "tags": []
   },
   "outputs": [
    {
     "data": {
      "text/plain": [
       "<matplotlib.axes._subplots.AxesSubplot at 0x22285589588>"
      ]
     },
     "execution_count": 28,
     "metadata": {},
     "output_type": "execute_result"
    },
    {
     "data": {
      "image/png": "[encoded data removed]",
      "text/plain": [
       "<Figure size 432x288 with 1 Axes>"
      ]
     },
     "metadata": {
      "needs_background": "light"
     },
     "output_type": "display_data"
    }
   ],
   "source": [
    "temp.groupby(\"MCT_CAT_CD\").sum()[\"DELTA_CNT\"].plot(kind='bar',rot=0)"
   ]
  },
  {
   "cell_type": "code",
   "execution_count": 26,
   "metadata": {},
   "outputs": [
    {
     "data": {
      "text/plain": [
       "<matplotlib.axes._subplots.AxesSubplot at 0x222854ba0b8>"
      ]
     },
     "execution_count": 26,
     "metadata": {},
     "output_type": "execute_result"
    },
    {
     "data": {
      "image/png": "[encoded data removed]",
      "text/plain": [
       "<Figure size 432x288 with 1 Axes>"
      ]
     },
     "metadata": {
      "needs_background": "light"
     },
     "output_type": "display_data"
    }
   ],
   "source": [
    "temp.groupby(\"MCT_CAT_CD\").sum()[\"DELTA_AMT\"].plot(kind='bar')"
   ]
  },
  {
   "cell_type": "code",
   "execution_count": 29,
   "metadata": {},
   "outputs": [],
   "source": [
    "temp.reset_index(drop=True, inplace=True)"
   ]
  },
  {
   "cell_type": "code",
   "execution_count": 30,
   "metadata": {},
   "outputs": [],
   "source": [
    "temp['DELTA_%_CNT'] = (temp['DELTA_CNT']/temp['USE_CNT_2020'])*100\n",
    "temp['DELTA_%_AMT'] = (temp['DELTA_AMT']/temp['USE_AMT_2020'])*100"
   ]
  },
  {
   "cell_type": "code",
   "execution_count": 31,
   "metadata": {},
   "outputs": [
    {
     "data": {
      "text/html": [
       "<div>\n",
       "<style scoped>\n",
       "    .dataframe tbody tr th:only-of-type {\n",
       "        vertical-align: middle;\n",
       "    }\n",
       "\n",
       "    .dataframe tbody tr th {\n",
       "        vertical-align: top;\n",
       "    }\n",
       "\n",
       "    .dataframe thead th {\n",
       "        text-align: right;\n",
       "    }\n",
       "</style>\n",
       "<table border=\"1\" class=\"dataframe\">\n",
       "  <thead>\n",
       "    <tr style=\"text-align: right;\">\n",
       "      <th></th>\n",
       "      <th>MCT_CAT_CD</th>\n",
       "      <th>USE_CNT_2020</th>\n",
       "      <th>USE_AMT_2020</th>\n",
       "      <th>M</th>\n",
       "      <th>USE_CNT_2019</th>\n",
       "      <th>USE_AMT_2019</th>\n",
       "      <th>DELTA_CNT</th>\n",
       "      <th>DELTA_AMT</th>\n",
       "      <th>DELTA_%_CNT</th>\n",
       "      <th>DELTA_%_AMT</th>\n",
       "    </tr>\n",
       "  </thead>\n",
       "  <tbody>\n",
       "    <tr>\n",
       "      <th>0</th>\n",
       "      <td>10</td>\n",
       "      <td>3292</td>\n",
       "      <td>502255</td>\n",
       "      <td>201</td>\n",
       "      <td>3481</td>\n",
       "      <td>321888</td>\n",
       "      <td>-189</td>\n",
       "      <td>180367</td>\n",
       "      <td>-5.741191</td>\n",
       "      <td>35.911439</td>\n",
       "    </tr>\n",
       "    <tr>\n",
       "      <th>1</th>\n",
       "      <td>20</td>\n",
       "      <td>8886</td>\n",
       "      <td>712649</td>\n",
       "      <td>201</td>\n",
       "      <td>7996</td>\n",
       "      <td>656491</td>\n",
       "      <td>890</td>\n",
       "      <td>56158</td>\n",
       "      <td>10.015755</td>\n",
       "      <td>7.880177</td>\n",
       "    </tr>\n",
       "    <tr>\n",
       "      <th>2</th>\n",
       "      <td>21</td>\n",
       "      <td>21906</td>\n",
       "      <td>332995</td>\n",
       "      <td>201</td>\n",
       "      <td>18604</td>\n",
       "      <td>367865</td>\n",
       "      <td>3302</td>\n",
       "      <td>-34870</td>\n",
       "      <td>15.073496</td>\n",
       "      <td>-10.471629</td>\n",
       "    </tr>\n",
       "    <tr>\n",
       "      <th>3</th>\n",
       "      <td>22</td>\n",
       "      <td>3833</td>\n",
       "      <td>78023</td>\n",
       "      <td>201</td>\n",
       "      <td>4743</td>\n",
       "      <td>93344</td>\n",
       "      <td>-910</td>\n",
       "      <td>-15321</td>\n",
       "      <td>-23.741195</td>\n",
       "      <td>-19.636517</td>\n",
       "    </tr>\n",
       "    <tr>\n",
       "      <th>4</th>\n",
       "      <td>30</td>\n",
       "      <td>117</td>\n",
       "      <td>61331</td>\n",
       "      <td>201</td>\n",
       "      <td>59</td>\n",
       "      <td>10706</td>\n",
       "      <td>58</td>\n",
       "      <td>50625</td>\n",
       "      <td>49.572650</td>\n",
       "      <td>82.543901</td>\n",
       "    </tr>\n",
       "    <tr>\n",
       "      <th>...</th>\n",
       "      <td>...</td>\n",
       "      <td>...</td>\n",
       "      <td>...</td>\n",
       "      <td>...</td>\n",
       "      <td>...</td>\n",
       "      <td>...</td>\n",
       "      <td>...</td>\n",
       "      <td>...</td>\n",
       "      <td>...</td>\n",
       "      <td>...</td>\n",
       "    </tr>\n",
       "    <tr>\n",
       "      <th>2734</th>\n",
       "      <td>70</td>\n",
       "      <td>10884</td>\n",
       "      <td>414896</td>\n",
       "      <td>531</td>\n",
       "      <td>59937</td>\n",
       "      <td>4190037</td>\n",
       "      <td>-49053</td>\n",
       "      <td>-3775141</td>\n",
       "      <td>-450.689085</td>\n",
       "      <td>-909.900553</td>\n",
       "    </tr>\n",
       "    <tr>\n",
       "      <th>2735</th>\n",
       "      <td>71</td>\n",
       "      <td>11701</td>\n",
       "      <td>545042</td>\n",
       "      <td>531</td>\n",
       "      <td>13846</td>\n",
       "      <td>1003778</td>\n",
       "      <td>-2145</td>\n",
       "      <td>-458736</td>\n",
       "      <td>-18.331767</td>\n",
       "      <td>-84.165257</td>\n",
       "    </tr>\n",
       "    <tr>\n",
       "      <th>2736</th>\n",
       "      <td>80</td>\n",
       "      <td>361986</td>\n",
       "      <td>4869571</td>\n",
       "      <td>531</td>\n",
       "      <td>455374</td>\n",
       "      <td>6225775</td>\n",
       "      <td>-93388</td>\n",
       "      <td>-1356204</td>\n",
       "      <td>-25.798788</td>\n",
       "      <td>-27.850585</td>\n",
       "    </tr>\n",
       "    <tr>\n",
       "      <th>2737</th>\n",
       "      <td>81</td>\n",
       "      <td>22810</td>\n",
       "      <td>366045</td>\n",
       "      <td>531</td>\n",
       "      <td>34900</td>\n",
       "      <td>639781</td>\n",
       "      <td>-12090</td>\n",
       "      <td>-273736</td>\n",
       "      <td>-53.003069</td>\n",
       "      <td>-74.782062</td>\n",
       "    </tr>\n",
       "    <tr>\n",
       "      <th>2738</th>\n",
       "      <td>92</td>\n",
       "      <td>549</td>\n",
       "      <td>16459</td>\n",
       "      <td>531</td>\n",
       "      <td>1431</td>\n",
       "      <td>50419</td>\n",
       "      <td>-882</td>\n",
       "      <td>-33960</td>\n",
       "      <td>-160.655738</td>\n",
       "      <td>-206.330883</td>\n",
       "    </tr>\n",
       "  </tbody>\n",
       "</table>\n",
       "<p>2739 rows × 10 columns</p>\n",
       "</div>"
      ],
      "text/plain": [
       "      MCT_CAT_CD  USE_CNT_2020  USE_AMT_2020    M  USE_CNT_2019  USE_AMT_2019  \\\n",
       "0             10          3292        502255  201          3481        321888   \n",
       "1             20          8886        712649  201          7996        656491   \n",
       "2             21         21906        332995  201         18604        367865   \n",
       "3             22          3833         78023  201          4743         93344   \n",
       "4             30           117         61331  201            59         10706   \n",
       "...          ...           ...           ...  ...           ...           ...   \n",
       "2734          70         10884        414896  531         59937       4190037   \n",
       "2735          71         11701        545042  531         13846       1003778   \n",
       "2736          80        361986       4869571  531        455374       6225775   \n",
       "2737          81         22810        366045  531         34900        639781   \n",
       "2738          92           549         16459  531          1431         50419   \n",
       "\n",
       "      DELTA_CNT  DELTA_AMT  DELTA_%_CNT  DELTA_%_AMT  \n",
       "0          -189     180367    -5.741191    35.911439  \n",
       "1           890      56158    10.015755     7.880177  \n",
       "2          3302     -34870    15.073496   -10.471629  \n",
       "3          -910     -15321   -23.741195   -19.636517  \n",
       "4            58      50625    49.572650    82.543901  \n",
       "...         ...        ...          ...          ...  \n",
       "2734     -49053   -3775141  -450.689085  -909.900553  \n",
       "2735      -2145    -458736   -18.331767   -84.165257  \n",
       "2736     -93388   -1356204   -25.798788   -27.850585  \n",
       "2737     -12090    -273736   -53.003069   -74.782062  \n",
       "2738       -882     -33960  -160.655738  -206.330883  \n",
       "\n",
       "[2739 rows x 10 columns]"
      ]
     },
     "execution_count": 31,
     "metadata": {},
     "output_type": "execute_result"
    }
   ],
   "source": [
    "temp"
   ]
  },
  {
   "cell_type": "code",
   "execution_count": 32,
   "metadata": {},
   "outputs": [],
   "source": [
    "seoul = pd.merge(Card.loc[(Card['GU_CD']==140)|(Card['GU_CD']==350)].groupby(['STD_DD','MCT_CAT_CD']).sum().reset_index(),cors_day_seoul,on='STD_DD')\n",
    "degu = pd.merge(Card.loc[(Card['GU_CD']==260)|(Card['GU_CD']==110)].groupby('STD_DD').sum().reset_index(),cors_day_degu,on='STD_DD')"
   ]
  },
  {
   "cell_type": "code",
   "execution_count": 33,
   "metadata": {},
   "outputs": [],
   "source": [
    "se = pd.merge(Card.loc[(Card['GU_CD']==140)|(Card['GU_CD']==350)],cors_day_seoul,on='STD_DD')\n",
    "de = pd.merge(Card.loc[(Card['GU_CD']==260)|(Card['GU_CD']==110)],cors_day_degu,on='STD_DD')"
   ]
  },
  {
   "cell_type": "code",
   "execution_count": 34,
   "metadata": {},
   "outputs": [],
   "source": [
    "indexing = {10: '숙박',\n",
    " 20: '레저용품',\n",
    " 21: '레저업소',\n",
    " 22: '문화취미',\n",
    " 30: '가구',\n",
    " 31: '전기',\n",
    " 32: '주방용구',\n",
    " 33: '연료판매',\n",
    " 34: '광학제품',\n",
    " 35: '가전',\n",
    " 40: '유통업',\n",
    " 42: '의복',\n",
    " 43: '직물',\n",
    " 44: '신변잡화',\n",
    " 50: '서적문구',\n",
    " 52: '사무통신',\n",
    " 60: '자동차판매',\n",
    " 62: '자동차정비',\n",
    " 70: '의료기관',\n",
    " 71: '보건위생',\n",
    " 80: '요식업소',\n",
    " 81: '음료식품',\n",
    " 92: '수리서비스'}"
   ]
  },
  {
   "cell_type": "code",
   "execution_count": 35,
   "metadata": {
    "tags": []
   },
   "outputs": [
    {
     "name": "stdout",
     "output_type": "stream",
     "text": [
      "업종수:  23\n"
     ]
    }
   ],
   "source": [
    "print(\"업종수: \",len(indexing))"
   ]
  },
  {
   "cell_type": "code",
   "execution_count": 36,
   "metadata": {},
   "outputs": [],
   "source": [
    "def plot_delta_cnt(graph,code):\n",
    "    graph = graph.loc[graph['MCT_CAT_CD']==code].reset_index(drop=True)\n",
    "    plt.bar(graph.index,graph['DELTA_CNT'],label=indexing[code])\n",
    "    plt.xlabel(\"0217-0531\")\n",
    "    plt.ylabel(\"2020사용량-2019사용량\")"
   ]
  },
  {
   "cell_type": "code",
   "execution_count": 37,
   "metadata": {},
   "outputs": [],
   "source": [
    "def plot_delta_cnt_ratio(graph,code):\n",
    "    graph = graph.loc[graph['MCT_CAT_CD']==code].reset_index(drop=True)\n",
    "    plt.bar(graph.index,graph['DELTA_%_CNT'],label=indexing[code])\n",
    "    plt.xlabel(\"0217-0531\")\n",
    "    plt.ylabel(\"2020사용량-2019사용량_%\")"
   ]
  },
  {
   "cell_type": "code",
   "execution_count": 38,
   "metadata": {},
   "outputs": [
    {
     "data": {
      "text/plain": [
       "<matplotlib.legend.Legend at 0x22287631dd8>"
      ]
     },
     "execution_count": 38,
     "metadata": {},
     "output_type": "execute_result"
    },
    {
     "data": {
      "image/png": "[encoded data removed]",
      "text/plain": [
       "<Figure size 1440x720 with 1 Axes>"
      ]
     },
     "metadata": {
      "needs_background": "light"
     },
     "output_type": "display_data"
    }
   ],
   "source": [
    "plt.figure(figsize=(20,10))\n",
    "for index in list(indexing.keys())[:10]:\n",
    "    plot_delta_cnt_ratio(temp,index)\n",
    "\n",
    "plt.legend()"
   ]
  },
  {
   "cell_type": "code",
   "execution_count": 39,
   "metadata": {},
   "outputs": [
    {
     "data": {
      "text/plain": [
       "<matplotlib.legend.Legend at 0x22283fb73c8>"
      ]
     },
     "execution_count": 39,
     "metadata": {},
     "output_type": "execute_result"
    },
    {
     "data": {
      "image/png": "[encoded data removed]",
      "text/plain": [
       "<Figure size 1440x720 with 1 Axes>"
      ]
     },
     "metadata": {
      "needs_background": "light"
     },
     "output_type": "display_data"
    }
   ],
   "source": [
    "plt.figure(figsize=(20,10))\n",
    "for index in list(indexing.keys())[10:20]:\n",
    "    plot_delta_cnt_ratio(temp,index)\n",
    "\n",
    "plt.legend()\n",
    "    \n"
   ]
  },
  {
   "cell_type": "code",
   "execution_count": 40,
   "metadata": {},
   "outputs": [
    {
     "data": {
      "text/plain": [
       "<matplotlib.legend.Legend at 0x22284aeeda0>"
      ]
     },
     "execution_count": 40,
     "metadata": {},
     "output_type": "execute_result"
    },
    {
     "data": {
      "image/png": "[encoded data removed]",
      "text/plain": [
       "<Figure size 1440x720 with 1 Axes>"
      ]
     },
     "metadata": {
      "needs_background": "light"
     },
     "output_type": "display_data"
    }
   ],
   "source": [
    "plt.figure(figsize=(20,10))\n",
    "for index in list(indexing.keys())[20:]:\n",
    "    plot_delta_cnt_ratio(temp,index)\n",
    "\n",
    "plt.legend()\n",
    "    \n"
   ]
  },
  {
   "cell_type": "markdown",
   "metadata": {},
   "source": [
    "데이터 피쳐 정의부"
   ]
  },
  {
   "cell_type": "code",
   "execution_count": 41,
   "metadata": {},
   "outputs": [],
   "source": [
    "se_d = se.drop(\"MCT_CAT_CD\",axis=1) "
   ]
  },
  {
   "cell_type": "code",
   "execution_count": 42,
   "metadata": {},
   "outputs": [],
   "source": [
    "se_d['SEX_CD'] = se_d['SEX_CD'].apply(lambda x: 0 if x=='F' else 1)"
   ]
  },
  {
   "cell_type": "code",
   "execution_count": 43,
   "metadata": {},
   "outputs": [
    {
     "data": {
      "text/html": [
       "<div>\n",
       "<style scoped>\n",
       "    .dataframe tbody tr th:only-of-type {\n",
       "        vertical-align: middle;\n",
       "    }\n",
       "\n",
       "    .dataframe tbody tr th {\n",
       "        vertical-align: top;\n",
       "    }\n",
       "\n",
       "    .dataframe thead th {\n",
       "        text-align: right;\n",
       "    }\n",
       "</style>\n",
       "<table border=\"1\" class=\"dataframe\">\n",
       "  <thead>\n",
       "    <tr style=\"text-align: right;\">\n",
       "      <th></th>\n",
       "      <th>MCT_CAT_CD</th>\n",
       "      <th>USE_CNT_2020</th>\n",
       "      <th>USE_AMT_2020</th>\n",
       "      <th>M</th>\n",
       "      <th>USE_CNT_2019</th>\n",
       "      <th>USE_AMT_2019</th>\n",
       "      <th>DELTA_CNT</th>\n",
       "      <th>DELTA_AMT</th>\n",
       "      <th>DELTA_%_CNT</th>\n",
       "      <th>DELTA_%_AMT</th>\n",
       "    </tr>\n",
       "  </thead>\n",
       "  <tbody>\n",
       "    <tr>\n",
       "      <th>0</th>\n",
       "      <td>10</td>\n",
       "      <td>3292</td>\n",
       "      <td>502255</td>\n",
       "      <td>201</td>\n",
       "      <td>3481</td>\n",
       "      <td>321888</td>\n",
       "      <td>-189</td>\n",
       "      <td>180367</td>\n",
       "      <td>-6</td>\n",
       "      <td>36</td>\n",
       "    </tr>\n",
       "    <tr>\n",
       "      <th>1</th>\n",
       "      <td>20</td>\n",
       "      <td>8886</td>\n",
       "      <td>712649</td>\n",
       "      <td>201</td>\n",
       "      <td>7996</td>\n",
       "      <td>656491</td>\n",
       "      <td>890</td>\n",
       "      <td>56158</td>\n",
       "      <td>10</td>\n",
       "      <td>8</td>\n",
       "    </tr>\n",
       "    <tr>\n",
       "      <th>2</th>\n",
       "      <td>21</td>\n",
       "      <td>21906</td>\n",
       "      <td>332995</td>\n",
       "      <td>201</td>\n",
       "      <td>18604</td>\n",
       "      <td>367865</td>\n",
       "      <td>3302</td>\n",
       "      <td>-34870</td>\n",
       "      <td>15</td>\n",
       "      <td>-10</td>\n",
       "    </tr>\n",
       "    <tr>\n",
       "      <th>3</th>\n",
       "      <td>22</td>\n",
       "      <td>3833</td>\n",
       "      <td>78023</td>\n",
       "      <td>201</td>\n",
       "      <td>4743</td>\n",
       "      <td>93344</td>\n",
       "      <td>-910</td>\n",
       "      <td>-15321</td>\n",
       "      <td>-24</td>\n",
       "      <td>-20</td>\n",
       "    </tr>\n",
       "    <tr>\n",
       "      <th>4</th>\n",
       "      <td>30</td>\n",
       "      <td>117</td>\n",
       "      <td>61331</td>\n",
       "      <td>201</td>\n",
       "      <td>59</td>\n",
       "      <td>10706</td>\n",
       "      <td>58</td>\n",
       "      <td>50625</td>\n",
       "      <td>50</td>\n",
       "      <td>83</td>\n",
       "    </tr>\n",
       "    <tr>\n",
       "      <th>...</th>\n",
       "      <td>...</td>\n",
       "      <td>...</td>\n",
       "      <td>...</td>\n",
       "      <td>...</td>\n",
       "      <td>...</td>\n",
       "      <td>...</td>\n",
       "      <td>...</td>\n",
       "      <td>...</td>\n",
       "      <td>...</td>\n",
       "      <td>...</td>\n",
       "    </tr>\n",
       "    <tr>\n",
       "      <th>2734</th>\n",
       "      <td>70</td>\n",
       "      <td>10884</td>\n",
       "      <td>414896</td>\n",
       "      <td>531</td>\n",
       "      <td>59937</td>\n",
       "      <td>4190037</td>\n",
       "      <td>-49053</td>\n",
       "      <td>-3775141</td>\n",
       "      <td>61</td>\n",
       "      <td>114</td>\n",
       "    </tr>\n",
       "    <tr>\n",
       "      <th>2735</th>\n",
       "      <td>71</td>\n",
       "      <td>11701</td>\n",
       "      <td>545042</td>\n",
       "      <td>531</td>\n",
       "      <td>13846</td>\n",
       "      <td>1003778</td>\n",
       "      <td>-2145</td>\n",
       "      <td>-458736</td>\n",
       "      <td>-18</td>\n",
       "      <td>-84</td>\n",
       "    </tr>\n",
       "    <tr>\n",
       "      <th>2736</th>\n",
       "      <td>80</td>\n",
       "      <td>361986</td>\n",
       "      <td>4869571</td>\n",
       "      <td>531</td>\n",
       "      <td>455374</td>\n",
       "      <td>6225775</td>\n",
       "      <td>-93388</td>\n",
       "      <td>-1356204</td>\n",
       "      <td>-26</td>\n",
       "      <td>-28</td>\n",
       "    </tr>\n",
       "    <tr>\n",
       "      <th>2737</th>\n",
       "      <td>81</td>\n",
       "      <td>22810</td>\n",
       "      <td>366045</td>\n",
       "      <td>531</td>\n",
       "      <td>34900</td>\n",
       "      <td>639781</td>\n",
       "      <td>-12090</td>\n",
       "      <td>-273736</td>\n",
       "      <td>-53</td>\n",
       "      <td>-75</td>\n",
       "    </tr>\n",
       "    <tr>\n",
       "      <th>2738</th>\n",
       "      <td>92</td>\n",
       "      <td>549</td>\n",
       "      <td>16459</td>\n",
       "      <td>531</td>\n",
       "      <td>1431</td>\n",
       "      <td>50419</td>\n",
       "      <td>-882</td>\n",
       "      <td>-33960</td>\n",
       "      <td>95</td>\n",
       "      <td>50</td>\n",
       "    </tr>\n",
       "  </tbody>\n",
       "</table>\n",
       "<p>2739 rows × 10 columns</p>\n",
       "</div>"
      ],
      "text/plain": [
       "      MCT_CAT_CD  USE_CNT_2020  USE_AMT_2020    M  USE_CNT_2019  USE_AMT_2019  \\\n",
       "0             10          3292        502255  201          3481        321888   \n",
       "1             20          8886        712649  201          7996        656491   \n",
       "2             21         21906        332995  201         18604        367865   \n",
       "3             22          3833         78023  201          4743         93344   \n",
       "4             30           117         61331  201            59         10706   \n",
       "...          ...           ...           ...  ...           ...           ...   \n",
       "2734          70         10884        414896  531         59937       4190037   \n",
       "2735          71         11701        545042  531         13846       1003778   \n",
       "2736          80        361986       4869571  531        455374       6225775   \n",
       "2737          81         22810        366045  531         34900        639781   \n",
       "2738          92           549         16459  531          1431         50419   \n",
       "\n",
       "      DELTA_CNT  DELTA_AMT  DELTA_%_CNT  DELTA_%_AMT  \n",
       "0          -189     180367           -6           36  \n",
       "1           890      56158           10            8  \n",
       "2          3302     -34870           15          -10  \n",
       "3          -910     -15321          -24          -20  \n",
       "4            58      50625           50           83  \n",
       "...         ...        ...          ...          ...  \n",
       "2734     -49053   -3775141           61          114  \n",
       "2735      -2145    -458736          -18          -84  \n",
       "2736     -93388   -1356204          -26          -28  \n",
       "2737     -12090    -273736          -53          -75  \n",
       "2738       -882     -33960           95           50  \n",
       "\n",
       "[2739 rows x 10 columns]"
      ]
     },
     "execution_count": 43,
     "metadata": {},
     "output_type": "execute_result"
    }
   ],
   "source": [
    "temp['DELTA_%_CNT'] = temp['DELTA_%_CNT'].apply(np.round).astype(np.int8)\n",
    "temp['DELTA_%_AMT'] = temp['DELTA_%_AMT'].apply(np.round).astype(np.int8)\n",
    "temp"
   ]
  },
  {
   "cell_type": "code",
   "execution_count": 65,
   "metadata": {},
   "outputs": [],
   "source": [
    "X, y = [temp[['DELTA_%_CNT','DELTA_%_AMT']],temp['MCT_CAT_CD']]"
   ]
  },
  {
   "cell_type": "markdown",
   "metadata": {},
   "source": [
    "모델 테스트"
   ]
  },
  {
   "cell_type": "code",
   "execution_count": 70,
   "metadata": {},
   "outputs": [],
   "source": [
    "from sklearn.model_selection import train_test_split\n",
    "X_train, X_test, y_train, y_test = train_test_split(X,y,test_size=0.2,random_state=42)"
   ]
  },
  {
   "cell_type": "code",
   "execution_count": 71,
   "metadata": {},
   "outputs": [],
   "source": [
    "from sklearn.ensemble import RandomForestClassifier"
   ]
  },
  {
   "cell_type": "code",
   "execution_count": 72,
   "metadata": {
    "tags": []
   },
   "outputs": [
    {
     "name": "stdout",
     "output_type": "stream",
     "text": [
      "RandomForest\n",
      "훈련 세트 정확도: 0.959\n",
      "테스트 세트 정확도: 0.106\n"
     ]
    }
   ],
   "source": [
    "RF = RandomForestClassifier(n_estimators=100,random_state=10).fit(X_train,y_train)\n",
    "print(\"RandomForest\")\n",
    "print(\"훈련 세트 정확도: {:.3f}\".format(RF.score(X_train,y_train)))\n",
    "print(\"테스트 세트 정확도: {:.3f}\".format(RF.score(X_test,y_test)))"
   ]
  },
  {
   "cell_type": "code",
   "execution_count": 48,
   "metadata": {},
   "outputs": [],
   "source": [
    "from sklearn.linear_model import Ridge"
   ]
  },
  {
   "cell_type": "code",
   "execution_count": 49,
   "metadata": {
    "tags": []
   },
   "outputs": [
    {
     "name": "stdout",
     "output_type": "stream",
     "text": [
      "Ridge\n",
      "훈련 세트 정확도: 0.001\n",
      "테스트 세트 정확도: 0.003\n"
     ]
    }
   ],
   "source": [
    "ridge = Ridge(alpha=0.001).fit(X_train,y_train)\n",
    "print(\"Ridge\")\n",
    "print(\"훈련 세트 정확도: {:.3f}\".format(ridge.score(X_train,y_train)))\n",
    "print(\"테스트 세트 정확도: {:.3f}\".format(ridge.score(X_test,y_test)))"
   ]
  },
  {
   "cell_type": "code",
   "execution_count": 50,
   "metadata": {},
   "outputs": [],
   "source": [
    "from sklearn.linear_model import LogisticRegression"
   ]
  },
  {
   "cell_type": "code",
   "execution_count": 51,
   "metadata": {
    "tags": []
   },
   "outputs": [
    {
     "name": "stdout",
     "output_type": "stream",
     "text": [
      "LogisticRegression\n",
      "훈련 세트 정확도: 0.113\n",
      "테스트 세트 정확도: 0.088\n"
     ]
    }
   ],
   "source": [
    "Log = LogisticRegression().fit(X_train,y_train)\n",
    "print(\"LogisticRegression\")\n",
    "print(\"훈련 세트 정확도: {:.3f}\".format(Log.score(X_train,y_train)))\n",
    "print(\"테스트 세트 정확도: {:.3f}\".format(Log.score(X_test,y_test)))"
   ]
  },
  {
   "cell_type": "code",
   "execution_count": null,
   "metadata": {},
   "outputs": [],
   "source": []
  }
 ],
 "metadata": {
  "kernelspec": {
   "display_name": "Python 3",
   "language": "python",
   "name": "python3"
  },
  "language_info": {
   "codemirror_mode": {
    "name": "ipython",
    "version": 3
   },
   "file_extension": ".py",
   "mimetype": "text/x-python",
   "name": "python",
   "nbconvert_exporter": "python",
   "pygments_lexer": "ipython3",
   "version": "3.6.10"
  }
 },
 "nbformat": 4,
 "nbformat_minor": 4
}
